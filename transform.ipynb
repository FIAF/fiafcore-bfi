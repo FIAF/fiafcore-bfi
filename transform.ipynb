{
 "cells": [
  {
   "cell_type": "code",
   "execution_count": 1,
   "metadata": {},
   "outputs": [
    {
     "name": "stdout",
     "output_type": "stream",
     "text": [
      "34534\n"
     ]
    }
   ],
   "source": [
    "from lxml import etree\n",
    "import rdflib\n",
    "import pathlib\n",
    "import pydash\n",
    "import xmltodict\n",
    "\n",
    "# with open(pathlib.Path.cwd() / 'data' / 'BFI_FIAF_LOD_Works.xml') as xml_data:\n",
    "#     xml_data = xml_data.read()\n",
    "#     xml_data = xmltodict.parse(xml_data)['adlibXML']['recordList']['record']\n",
    "\n",
    "# record_keys = list()\n",
    "# for r in xml_data[:200]:\n",
    "#     record_keys += r.keys()\n",
    "# record_keys = pydash.uniq(record_keys)\n",
    "# print(len(record_keys))\n",
    "\n",
    "# transformation via xslt to fiafcore structures.\n",
    "\n",
    "data = etree.parse(str(pathlib.Path.cwd() / 'data' / 'BFI_FIAF_LOD_Works.xml'))\n",
    "xsl_file = etree.parse(str(pathlib.Path.cwd() / 'bfi_works.xsl'))\n",
    "transform = etree.XSLT(xsl_file)\n",
    "result = transform(data)\n",
    "turtle = rdflib.Graph().parse(data=str(result), format='xml')\n",
    "\n",
    "# mapping, ontology and vocabulary elements to fiafcore.\n",
    "\n",
    "turtle_string = turtle.serialize(format='longturtle')\n",
    "turtle_string = turtle_string.replace('<bfi://ontology/work>', '<https://ontology.fiafcore.org/Work>')\n",
    "\n",
    "# authority, entities to fiafcore pids.\n",
    "\n",
    "print(len(turtle))\n",
    "\n",
    "# print(turtle.serialize(format='longturtle'))\n",
    "# print(turtle_string)"
   ]
  }
 ],
 "metadata": {
  "kernelspec": {
   "display_name": "Python 3",
   "language": "python",
   "name": "python3"
  },
  "language_info": {
   "codemirror_mode": {
    "name": "ipython",
    "version": 3
   },
   "file_extension": ".py",
   "mimetype": "text/x-python",
   "name": "python",
   "nbconvert_exporter": "python",
   "pygments_lexer": "ipython3",
   "version": "3.12.10"
  }
 },
 "nbformat": 4,
 "nbformat_minor": 2
}
